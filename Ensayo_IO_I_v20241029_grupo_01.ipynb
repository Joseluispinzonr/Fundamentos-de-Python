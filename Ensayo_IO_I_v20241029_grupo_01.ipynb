{
  "nbformat": 4,
  "nbformat_minor": 0,
  "metadata": {
    "colab": {
      "provenance": [],
      "toc_visible": true,
      "authorship_tag": "ABX9TyNZtB1aT+ET5uSII10CUrVn",
      "include_colab_link": true
    },
    "kernelspec": {
      "name": "python3",
      "display_name": "Python 3"
    },
    "language_info": {
      "name": "python"
    }
  },
  "cells": [
    {
      "cell_type": "markdown",
      "metadata": {
        "id": "view-in-github",
        "colab_type": "text"
      },
      "source": [
        "<a href=\"https://colab.research.google.com/github/gabrielawad/Fundamentos-de-Python/blob/main/Ensayo_IO_I_v20241029_grupo_01.ipynb\" target=\"_parent\"><img src=\"https://colab.research.google.com/assets/colab-badge.svg\" alt=\"Open In Colab\"/></a>"
      ]
    },
    {
      "cell_type": "markdown",
      "source": [
        "# Este es el título"
      ],
      "metadata": {
        "id": "VyOjCQZ116EI"
      }
    },
    {
      "cell_type": "code",
      "execution_count": 1,
      "metadata": {
        "colab": {
          "base_uri": "https://localhost:8080/"
        },
        "id": "y35_570c1Jp7",
        "outputId": "fe3d0fc0-972a-4ed2-dde7-243d497d81df"
      },
      "outputs": [
        {
          "output_type": "stream",
          "name": "stdout",
          "text": [
            "Hola, mundo\n"
          ]
        }
      ],
      "source": [
        "# Programa incial\n",
        "print(\"Hola, mundo\")"
      ]
    },
    {
      "cell_type": "markdown",
      "source": [
        "## Esto es un subtítulo\n",
        "\n",
        "**Esto está en negrilla**"
      ],
      "metadata": {
        "id": "n9bCslA32IK_"
      }
    },
    {
      "cell_type": "code",
      "source": [
        "# Crear una variable\n",
        "a = \"Me encanta programar\"\n",
        "\n",
        "# Crear una lista\n",
        "lista_a = [a, \"b\", \"c\"]\n",
        "\n",
        "# Imprimir los elementos de la lista\n",
        "for elemento in lista_a:\n",
        "    print(elemento)\n",
        "\n",
        "# Comentario largo xxxxxxxxxxxxxxxxxxxxxxxxxxxxxxxxxxxxxxxxxxxxxxxxxxxxxxxxxxxxxxx\n",
        "# xxxxxxxxxxxx"
      ],
      "metadata": {
        "colab": {
          "base_uri": "https://localhost:8080/"
        },
        "id": "nSyCerTJ25Qg",
        "outputId": "6b110d10-edf5-4f76-81e4-e4da952ee59b"
      },
      "execution_count": 3,
      "outputs": [
        {
          "output_type": "stream",
          "name": "stdout",
          "text": [
            "Me encanta programar\n",
            "b\n",
            "c\n"
          ]
        }
      ]
    }
  ]
}