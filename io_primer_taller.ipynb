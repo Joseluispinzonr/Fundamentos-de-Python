{
  "nbformat": 4,
  "nbformat_minor": 0,
  "metadata": {
    "colab": {
      "provenance": [],
      "authorship_tag": "ABX9TyM1EkibXDYMDupFMkywVcnm",
      "include_colab_link": true
    },
    "kernelspec": {
      "name": "python3",
      "display_name": "Python 3"
    },
    "language_info": {
      "name": "python"
    }
  },
  "cells": [
    {
      "cell_type": "markdown",
      "metadata": {
        "id": "view-in-github",
        "colab_type": "text"
      },
      "source": [
        "<a href=\"https://colab.research.google.com/github/Joseluispinzonr/Fundamentos-de-Python/blob/main/io_primer_taller.ipynb\" target=\"_parent\"><img src=\"https://colab.research.google.com/assets/colab-badge.svg\" alt=\"Open In Colab\"/></a>"
      ]
    },
    {
      "cell_type": "markdown",
      "source": [
        "#Este es un documento"
      ],
      "metadata": {
        "id": "fMkzMXyg19mg"
      }
    },
    {
      "cell_type": "markdown",
      "source": [
        "##este es es un subtitulo (## numeral subtitulo)\n",
        "***esto esta en negrilla***"
      ],
      "metadata": {
        "id": "5XG-8uZg2LTo"
      }
    },
    {
      "cell_type": "code",
      "source": [
        "#programa inicial\n",
        "print(\"Hola mundo\" )"
      ],
      "metadata": {
        "colab": {
          "base_uri": "https://localhost:8080/"
        },
        "id": "XZkP1AOk1oc5",
        "outputId": "77cce1ca-fe66-41b7-fb23-6e1de2bf174a"
      },
      "execution_count": 2,
      "outputs": [
        {
          "output_type": "stream",
          "name": "stdout",
          "text": [
            "Hola mundo\n"
          ]
        }
      ]
    },
    {
      "cell_type": "code",
      "source": [
        "a=\"Me encanta programar en python\"\n",
        "#Crear una lista\n",
        "lista_a=[a,\"b\",\"c\"]\n",
        "\n",
        "#Imprimir los elementos de la lista\n",
        "for elemento in lista_a:\n",
        "  print(elemento)"
      ],
      "metadata": {
        "colab": {
          "base_uri": "https://localhost:8080/"
        },
        "id": "ILlXD5Xy26Xy",
        "outputId": "c3f21892-de66-41ca-8f6d-d49d3a9e178a"
      },
      "execution_count": 11,
      "outputs": [
        {
          "output_type": "stream",
          "name": "stdout",
          "text": [
            "Me encanta programar en python\n",
            "b\n",
            "c\n"
          ]
        }
      ]
    }
  ]
}